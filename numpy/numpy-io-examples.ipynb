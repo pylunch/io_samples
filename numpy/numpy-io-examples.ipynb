{
 "metadata": {
  "name": "numpy-io-examples"
 },
 "nbformat": 3,
 "nbformat_minor": 0,
 "worksheets": [
  {
   "cells": [
    {
     "cell_type": "markdown",
     "metadata": {},
     "source": [
      "# NumPy save/savez/load\n",
      "\n",
      "See the documentation at http://docs.scipy.org/doc/numpy/reference/routines.io.html."
     ]
    },
    {
     "cell_type": "code",
     "collapsed": false,
     "input": [
      "import numpy as np"
     ],
     "language": "python",
     "metadata": {},
     "outputs": [],
     "prompt_number": 1
    },
    {
     "cell_type": "markdown",
     "metadata": {},
     "source": [
      "## Saving/loading a single array with save/load\n",
      "\n",
      "Save an array to disk with `np.save`:"
     ]
    },
    {
     "cell_type": "code",
     "collapsed": false,
     "input": [
      "a = np.arange(100)\n",
      "np.save('a.npy', a)"
     ],
     "language": "python",
     "metadata": {},
     "outputs": [],
     "prompt_number": 2
    },
    {
     "cell_type": "markdown",
     "metadata": {},
     "source": [
      "Load the array back into Python:"
     ]
    },
    {
     "cell_type": "code",
     "collapsed": false,
     "input": [
      "a_load = np.load('a.npy')\n",
      "assert (a == a_load).all()"
     ],
     "language": "python",
     "metadata": {},
     "outputs": [],
     "prompt_number": 3
    },
    {
     "cell_type": "markdown",
     "metadata": {},
     "source": [
      "## Saving/loading multiple arrays with savez/load\n",
      "\n",
      "Save arrays to disk with `np.savez`:"
     ]
    },
    {
     "cell_type": "code",
     "collapsed": false,
     "input": [
      "b = np.random.random((100, 100))\n",
      "np.savez('data.npz', a=a, b=b)"
     ],
     "language": "python",
     "metadata": {},
     "outputs": [],
     "prompt_number": 4
    },
    {
     "cell_type": "markdown",
     "metadata": {},
     "source": [
      "Load the data back into Python:"
     ]
    },
    {
     "cell_type": "code",
     "collapsed": false,
     "input": [
      "data = np.load('data.npz')\n",
      "\n",
      "a_load = data['a']\n",
      "b_load = data['b']\n",
      "\n",
      "data.close()\n",
      "\n",
      "assert (a == a_load).all()\n",
      "assert (b == b_load).all()"
     ],
     "language": "python",
     "metadata": {},
     "outputs": [],
     "prompt_number": 5
    },
    {
     "cell_type": "code",
     "collapsed": false,
     "input": [],
     "language": "python",
     "metadata": {},
     "outputs": []
    }
   ],
   "metadata": {}
  }
 ]
}