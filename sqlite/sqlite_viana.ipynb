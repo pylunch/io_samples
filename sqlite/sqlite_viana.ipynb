{
 "metadata": {
  "name": "sqlite_viana"
 }, 
 "name": "sqlite_viana", 
 "nbformat": 2, 
 "worksheets": [
  {
   "cells": [
    {
     "cell_type": "markdown", 
     "source": "SQLite I/O\n----------\n\nThe website for SQLite (including syntax) is: http://www.sqlite.org/  \n  \nFirst let's start by importing the sqlite3 python module."
    }, 
    {
     "cell_type": "code", 
     "collapsed": true, 
     "input": "import sqlite3", 
     "language": "python", 
     "outputs": [], 
     "prompt_number": 2
    }, 
    {
     "cell_type": "markdown", 
     "source": "Now let's creat a connection to a database. If the database does not exist it will be created. Next we create a `cursor` object that we'll use to interact with the database."
    }, 
    {
     "cell_type": "code", 
     "collapsed": false, 
     "input": "connection = sqlite3.connect('test_database.db')\ncursor = connection.cursor()", 
     "language": "python", 
     "outputs": [], 
     "prompt_number": 3
    }, 
    {
     "cell_type": "markdown", 
     "source": "For performance keep in mind that creating connections is computationally expensive while cursor objects are cheap. The next step is to define our table structure. "
    }, 
    {
     "cell_type": "code", 
     "collapsed": false, 
     "input": "cursor.execute('CREATE TABLE IF NOT EXISTS planets (name TEXT, moons INTEGER);')", 
     "language": "python", 
     "outputs": [
      {
       "output_type": "pyout", 
       "prompt_number": 4, 
       "text": "&lt;sqlite3.Cursor at 0x203bd20&gt;"
      }
     ], 
     "prompt_number": 4
    }, 
    {
     "cell_type": "markdown", 
     "source": "Like all commands this one is executed with the `execute` method of the the `cursor` object. Let's look at what this command does. If there is not already a table in our database called planets it creates one. This table will have 2 columns (or \"fields\"), a text column called planets and an integer column called moons. Now let's examine the contents of our table."
    }, 
    {
     "cell_type": "code", 
     "collapsed": false, 
     "input": "cursor.execute('SELECT * FROM planets;')\ncursor.fetchall()", 
     "language": "python", 
     "outputs": [
      {
       "output_type": "pyout", 
       "prompt_number": 5, 
       "text": "[]"
      }
     ], 
     "prompt_number": 5
    }, 
    {
     "cell_type": "markdown", 
     "source": "Again, we are using the `execute` method but this time because we want to see the output of our command (if there is any) we follow it with a call to the `fetchall` method. In this case we get a empty list back. This is exactly what we expect because we haven't put anything into that database yet. So let's add some data."
    }, 
    {
     "cell_type": "code", 
     "collapsed": false, 
     "input": "cursor.execute('INSERT INTO planets (name, moons) Values (\"Jupiter\", \"67\");')\ncursor.execute('INSERT INTO planets (name, moons) Values (\"Neptune\", \"12\");')\ncursor.execute('INSERT INTO planets (name, moons) Values (\"Saturn\", \"61\");')", 
     "language": "python", 
     "outputs": [
      {
       "output_type": "pyout", 
       "prompt_number": 6, 
       "text": "&lt;sqlite3.Cursor at 0x203bd20&gt;"
      }
     ], 
     "prompt_number": 6
    }, 
    {
     "cell_type": "markdown", 
     "source": "Now let's take another look and see what we have."
    }, 
    {
     "cell_type": "code", 
     "collapsed": false, 
     "input": "cursor.execute('SELECT * FROM planets;')\ncursor.fetchall()", 
     "language": "python", 
     "outputs": [
      {
       "output_type": "pyout", 
       "prompt_number": 7, 
       "text": "[(u&apos;Jupiter&apos;, 67), (u&apos;Neptune&apos;, 13), (u&apos;Saturn&apos;, 61)]"
      }
     ], 
     "prompt_number": 7
    }, 
    {
     "cell_type": "markdown", 
     "source": "Great! Except I made a mistake. Saturn doesn't have 61 moons, it has 62. Let's INSERT that data again and see if that fixes the problem."
    }, 
    {
     "cell_type": "code", 
     "collapsed": false, 
     "input": "cursor.execute('INSERT INTO planets (name, moons) Values (\"Saturn\", \"62\");')\ncursor.execute('SELECT * FROM planets;')\ncursor.fetchall()", 
     "language": "python", 
     "outputs": [
      {
       "output_type": "pyout", 
       "prompt_number": 9, 
       "text": "[(u&apos;Jupiter&apos;, 67),\n (u&apos;Neptune&apos;, 13),\n (u&apos;Saturn&apos;, 61),\n (u&apos;Saturn&apos;, 62),\n (u&apos;Saturn&apos;, 62)]"
      }
     ], 
     "prompt_number": 9
    }, 
    {
     "cell_type": "markdown", 
     "source": "Whoops! Now we have 2 entries for Saturn. That's because there is no uniqueness contraint on either column, meaning we can have duplicates. We can also modify the SELECT statement to only return the records for Saturn."
    }, 
    {
     "cell_type": "code", 
     "collapsed": false, 
     "input": "cursor.execute('SELECT * FROM planets WHERE name = \"Saturn\";')\ncursor.fetchall()", 
     "language": "python", 
     "outputs": [
      {
       "output_type": "pyout", 
       "prompt_number": 10, 
       "text": "[(u&apos;Saturn&apos;, 61), (u&apos;Saturn&apos;, 62), (u&apos;Saturn&apos;, 62)]"
      }
     ], 
     "prompt_number": 10
    }, 
    {
     "cell_type": "markdown", 
     "source": "Pretty straight-forward. Now let's use the DELETE command to remove that incorrect record for Saturn."
    }, 
    {
     "cell_type": "code", 
     "collapsed": false, 
     "input": "cursor.execute('DELETE FROM planets WHERE moons == 61;')\ncursor.execute('SELECT * FROM planets;')\ncursor.fetchall()", 
     "language": "python", 
     "outputs": [
      {
       "output_type": "pyout", 
       "prompt_number": 12, 
       "text": "[(u&apos;Jupiter&apos;, 67), (u&apos;Neptune&apos;, 13), (u&apos;Saturn&apos;, 62), (u&apos;Saturn&apos;, 62)]"
      }
     ], 
     "prompt_number": 12
    }, 
    {
     "cell_type": "markdown", 
     "source": "Notice we used the value of 61 for the moons column to specify exactly which record should be deleted. So now we fixed that but I just noticed another mistake. Neptune has 13 moons not 12. So this time instead of adding a new record and removing the old one let's just update the existing record with the update command. "
    }, 
    {
     "cell_type": "code", 
     "collapsed": false, 
     "input": "cursor.execute('UPDATE planets SET moons = 13 WHERE name = \"Neptune\";')\ncursor.execute('SELECT * FROM planets;')\ncursor.fetchall()", 
     "language": "python", 
     "outputs": [
      {
       "output_type": "pyout", 
       "prompt_number": 13, 
       "text": "[(u&apos;Jupiter&apos;, 67), (u&apos;Neptune&apos;, 13), (u&apos;Saturn&apos;, 62), (u&apos;Saturn&apos;, 62)]"
      }
     ], 
     "prompt_number": 13
    }, 
    {
     "cell_type": "markdown", 
     "source": "Great! Now things look right. Let's commit our changes (like hitting save) and close out our connection. "
    }, 
    {
     "cell_type": "code", 
     "collapsed": false, 
     "input": "connection.commit()\nconnection.close()", 
     "language": "python", 
     "outputs": [], 
     "prompt_number": 15
    }, 
    {
     "cell_type": "markdown", 
     "source": "We've just learned the basic SQLite commands of CREATE TABLE, SELECT, INSERT, DELETE, and UPDATE. We also learned how to use the Python SQLite3 module to interface with a SQLite database and execute those commands. From here you could easily expand this to fit your own projects. For example:\n\n  * All the header information in your dataset.\n  * A log of when you ran your pipeline and what data you used.\n  * A daily snap shot of dataset as it accumulates new data.\n\nAs you start building more and more complex database interfaces you might find that would want to move to a more robust database toolkit such as SQLAlchemy: http://www.sqlalchemy.org/ "
    }, 
    {
     "cell_type": "code", 
     "collapsed": true, 
     "input": "", 
     "language": "python", 
     "outputs": [], 
     "prompt_number": "&nbsp;"
    }
   ]
  }
 ]
}